{
 "cells": [
  {
   "cell_type": "code",
   "execution_count": 1,
   "metadata": {},
   "outputs": [
    {
     "name": "stdout",
     "output_type": "stream",
     "text": [
      "Created requirements.txt with the necessary libraries.\n"
     ]
    }
   ],
   "source": [
    "import subprocess\n",
    "libraries = [\n",
    "    'fastapi',\n",
    "    'uvicorn',\n",
    "    'weaviate-client',\n",
    "    'requests',\n",
    "    'pyvi'\n",
    "]\n",
    "\n",
    "installed_packages = subprocess.check_output(['pip', 'freeze']).decode('utf-8').splitlines()\n",
    "\n",
    "with open('requirements.txt', 'w') as f:\n",
    "    for package in installed_packages:\n",
    "        package_name = package.split('==')[0]\n",
    "        if package_name in libraries:\n",
    "            f.write(f\"{package}\\n\")\n",
    "\n",
    "print(\"Created requirements.txt with the necessary libraries.\")\n"
   ]
  }
 ],
 "metadata": {
  "kernelspec": {
   "display_name": "rag",
   "language": "python",
   "name": "python3"
  },
  "language_info": {
   "codemirror_mode": {
    "name": "ipython",
    "version": 3
   },
   "file_extension": ".py",
   "mimetype": "text/x-python",
   "name": "python",
   "nbconvert_exporter": "python",
   "pygments_lexer": "ipython3",
   "version": "3.9.19"
  }
 },
 "nbformat": 4,
 "nbformat_minor": 2
}
